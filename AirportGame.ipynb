{
 "cells": [
  {
   "cell_type": "markdown",
   "metadata": {},
   "source": []
  },
  {
   "cell_type": "code",
   "execution_count": 7,
   "metadata": {},
   "outputs": [],
   "source": [
    "from itertools import permutations\n",
    "from math import factorial"
   ]
  },
  {
   "cell_type": "code",
   "execution_count": 8,
   "metadata": {},
   "outputs": [
    {
     "name": "stdout",
     "output_type": "stream",
     "text": [
      "Shapley values for each city:\n",
      "City1: 10.0\n",
      "City2: 86.5\n",
      "City3: 86.5\n"
     ]
    }
   ],
   "source": [
    "class AirportGame:\n",
    "    def __init__(self, costs):\n",
    "        self.costs = costs  # Dictionary of costs for each agent (city)\n",
    "\n",
    "    def characteristic_function(self, coalition):\n",
    "        if not coalition:\n",
    "            return 0\n",
    "        individual_costs = sum(self.costs[city] for city in coalition)\n",
    "        largest_runway_cost = max(self.costs[city] for city in coalition)\n",
    "        return individual_costs - largest_runway_cost\n",
    "\n",
    "    def shapley_values(self):\n",
    "        num_players = len(self.costs)\n",
    "        shapley_values = {city: 0 for city in self.costs}\n",
    "\n",
    "        for city in self.costs:\n",
    "            for order in permutations(self.costs.keys()):\n",
    "                index = order.index(city)\n",
    "                coalition = set(order[:index])\n",
    "                marginal_contribution = self.characteristic_function(coalition | {city}) - self.characteristic_function(coalition)\n",
    "                shapley_values[city] += marginal_contribution\n",
    "\n",
    "            shapley_values[city] /= factorial(num_players)\n",
    "\n",
    "        return shapley_values\n",
    "\n",
    "    def show_results(self):\n",
    "        shapley_values = self.shapley_values()\n",
    "        print(\"Shapley values for each city:\")\n",
    "        for city, value in shapley_values.items():\n",
    "            print(f\"{city}: {value}\")\n",
    "\n",
    "# Example usage with initial costs\n",
    "costs = {'City1': 15, 'City2': 323, 'City3': 168}\n",
    "\n",
    "game = AirportGame(costs)\n",
    "game.show_results()\n"
   ]
  },
  {
   "cell_type": "code",
   "execution_count": null,
   "metadata": {},
   "outputs": [],
   "source": []
  }
 ],
 "metadata": {
  "kernelspec": {
   "display_name": "Python 3",
   "language": "python",
   "name": "python3"
  },
  "language_info": {
   "codemirror_mode": {
    "name": "ipython",
    "version": 3
   },
   "file_extension": ".py",
   "mimetype": "text/x-python",
   "name": "python",
   "nbconvert_exporter": "python",
   "pygments_lexer": "ipython3",
   "version": "3.11.0"
  }
 },
 "nbformat": 4,
 "nbformat_minor": 2
}
